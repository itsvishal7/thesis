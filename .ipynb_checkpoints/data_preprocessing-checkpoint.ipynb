{
 "cells": [
  {
   "cell_type": "code",
   "execution_count": 1,
   "metadata": {},
   "outputs": [],
   "source": [
    "import pandas as pd\n",
    "import numpy as np\n",
    "np.set_printoptions(suppress=True)\n",
    "import matplotlib.pyplot as plt\n",
    "from sklearn.cluster import KMeans\n",
    "from sklearn import metrics\n",
    "from scipy.spatial.distance import cdist\n",
    "from scipy.cluster.vq import whiten\n",
    "from IPython.display import display"
   ]
  },
  {
   "cell_type": "markdown",
   "metadata": {},
   "source": [
    "### Getting crime count from FIR Data"
   ]
  },
  {
   "cell_type": "code",
   "execution_count": null,
   "metadata": {},
   "outputs": [],
   "source": [
    "# firfull_df = pd.read_csv('./data/Uttar_Pradesh_data/firdatafull.csv')\n",
    "# firfull_df.sample(n=10)"
   ]
  },
  {
   "cell_type": "code",
   "execution_count": null,
   "metadata": {},
   "outputs": [],
   "source": [
    "# firfull_df.columns"
   ]
  },
  {
   "cell_type": "code",
   "execution_count": null,
   "metadata": {},
   "outputs": [],
   "source": [
    "# firfull_df = firfull_df[['CHARGSHEET_OR_NOT', 'PS','RANGE_NAME', 'ZONE_NAME', 'DISTRICT',\n",
    "#                          'date', 'REG_MONTH', 'REG_YEAR']]\n",
    "# firfull_df.sample(n=10)"
   ]
  },
  {
   "cell_type": "code",
   "execution_count": null,
   "metadata": {},
   "outputs": [],
   "source": [
    "# firfull_df.groupby(['DISTRICT', 'PS', 'REG_YEAR', 'REG_MONTH']).count()"
   ]
  },
  {
   "cell_type": "code",
   "execution_count": null,
   "metadata": {},
   "outputs": [],
   "source": [
    "# count_df = firfull_df.groupby(['DISTRICT', 'PS', 'REG_YEAR', 'REG_MONTH']).size().reset_index(name='count')\n",
    "# count_df.head()"
   ]
  },
  {
   "cell_type": "code",
   "execution_count": null,
   "metadata": {},
   "outputs": [],
   "source": [
    "# print(count_df.shape)"
   ]
  },
  {
   "cell_type": "code",
   "execution_count": null,
   "metadata": {},
   "outputs": [],
   "source": [
    "# dd = ''\n",
    "# d = ''\n",
    "# count =0\n",
    "# c = 0\n",
    "# t = 0\n",
    "# for index, row in count_df.iterrows():\n",
    "#     if d==row['PS']:\n",
    "#         count=count+1\n",
    "#     else:\n",
    "#         if count != 36 and count != 0:\n",
    "#             print(dd+','+d, count)\n",
    "#             c=c+1\n",
    "#             t=t+count\n",
    "#         d = row['PS']\n",
    "#         dd = row['DISTRICT']\n",
    "#         count=1\n",
    "# print(t, c)"
   ]
  },
  {
   "cell_type": "code",
   "execution_count": null,
   "metadata": {},
   "outputs": [],
   "source": [
    "# arr = []\n",
    "# year = count_df['REG_YEAR'].unique()\n",
    "# month = count_df['REG_MONTH'].unique()\n",
    "# for ed in count_df['DISTRICT'].unique():\n",
    "#     dDF = count_df[count_df['DISTRICT'] == ed]\n",
    "#     for eps in dDF['PS'].unique():\n",
    "#         pDF = dDF[dDF['PS'] == eps]\n",
    "#         for ey in year:\n",
    "#             for em in month:\n",
    "#                 count = pDF[(pDF['REG_YEAR'] == ey)&(pDF['REG_MONTH'] == em)]['count'].values\n",
    "#                 if len(count) == 0:\n",
    "#                     count = 0\n",
    "#                 else:\n",
    "#                     count = count[0]\n",
    "#                 arr.append([ed, eps, ey, em, count])\n",
    "# arrr = np.array(arr)\n",
    "# newdf = pd.DataFrame(arrr, columns=['district', 'ps', 'reg_year', 'reg_month', 'count'])"
   ]
  },
  {
   "cell_type": "code",
   "execution_count": null,
   "metadata": {},
   "outputs": [],
   "source": [
    "# dd = ''\n",
    "# d = ''\n",
    "# count =0\n",
    "# c = 0\n",
    "# t = 0\n",
    "# for index, row in newdf.iterrows():\n",
    "#     if d==row['ps']:\n",
    "#         count=count+1\n",
    "#     else:\n",
    "#         if count != 36 and count != 0:\n",
    "#             print(dd+','+d, count)\n",
    "#             c=c+1\n",
    "#             t=t+count\n",
    "#         d = row['ps']\n",
    "#         dd = row['district']\n",
    "#         count=1\n",
    "# print(t, c)"
   ]
  },
  {
   "cell_type": "code",
   "execution_count": null,
   "metadata": {},
   "outputs": [],
   "source": [
    "# newdf.shape"
   ]
  },
  {
   "cell_type": "code",
   "execution_count": null,
   "metadata": {},
   "outputs": [],
   "source": [
    "# newdf.head()"
   ]
  },
  {
   "cell_type": "code",
   "execution_count": null,
   "metadata": {},
   "outputs": [],
   "source": [
    "# newdf.to_csv('./data/crime_count/district_police_station_wise_crime_count.csv', index=False)"
   ]
  },
  {
   "cell_type": "markdown",
   "metadata": {},
   "source": [
    "### Getting other covariates"
   ]
  },
  {
   "cell_type": "markdown",
   "metadata": {},
   "source": [
    "#### GDP"
   ]
  },
  {
   "cell_type": "code",
   "execution_count": null,
   "metadata": {},
   "outputs": [],
   "source": [
    "# gdp_df = pd.read_csv('./data/Uttar_Pradesh_data/GDP/GDP_Uttar_Pradesh_District_level 2004-2005 to 2010-2011.csv')\n",
    "# gdp_df.transpose().to_csv('./data/preprocessed_data/gdp.csv', index = True)"
   ]
  },
  {
   "cell_type": "code",
   "execution_count": null,
   "metadata": {},
   "outputs": [],
   "source": [
    "# gdp_df = pd.read_csv('./data/preprocessed_data/gdp.csv')\n",
    "# gdp_df.head()\n",
    "\n",
    "## Now delete first and third row in the file, replacing 'Year' with 'district'"
   ]
  },
  {
   "cell_type": "markdown",
   "metadata": {},
   "source": [
    "#### Unemployment"
   ]
  },
  {
   "cell_type": "code",
   "execution_count": null,
   "metadata": {},
   "outputs": [],
   "source": [
    "# unemployment_df = pd.read_html('./data/Uttar_Pradesh_data/Unemployment/Non_worker_as per_2011_district_level.html')[0]\n",
    "# unemployment_df.columns"
   ]
  },
  {
   "cell_type": "code",
   "execution_count": null,
   "metadata": {},
   "outputs": [],
   "source": [
    "# count = 3\n",
    "# rowlist = []\n",
    "# for i in range(count, 291):\n",
    "#     district = unemployment_df.loc[count][0]\n",
    "#     total = unemployment_df.loc[count+1][7]\n",
    "#     male = unemployment_df.loc[count+1][8]\n",
    "#     female = unemployment_df.loc[count+1][9]\n",
    "#     row = {'district':district.strip(), 'total_non_worker':total, 'male_non_worker':male, 'female_non_worker':female}\n",
    "#     rowlist.append(row)\n",
    "#     count=count+4\n",
    "#     if (count>=290):\n",
    "#         break\n",
    "# non_worker = pd.DataFrame(rowlist)\n",
    "# non_worker.to_csv('./data/preprocessed_data/unemployment_2011.csv', index = False)"
   ]
  },
  {
   "cell_type": "markdown",
   "metadata": {},
   "source": [
    "#### Sex-ratio, Male Population, Total Population"
   ]
  },
  {
   "cell_type": "code",
   "execution_count": null,
   "metadata": {},
   "outputs": [],
   "source": [
    "# up_data_xls = pd.ExcelFile('./data/Uttar_Pradesh_data/Uttar Pradesh.xls')\n",
    "\n",
    "# #### Getting Sex-ratio, male count, total population for the year 2011 and 2016 #########\n",
    "\n",
    "# def getData(district):\n",
    "#     district = pd.read_excel(up_data_xls, district)\n",
    "#     district[district['Unnamed: 1'] == '15 – 19']\n",
    "#     age_group_15_19 = district[district['Unnamed: 1'] == '15 – 19']\n",
    "#     age_group_20_24 = district[district['Unnamed: 1'] == '20 – 24']\n",
    "\n",
    "#     number_male_in_age_group_15_19_2011 = age_group_15_19['Unnamed: 6'].astype(int).values\n",
    "#     number_male_in_age_group_20_24_2011 = age_group_20_24['Unnamed: 6'].astype(int).values\n",
    "#     male_15_24_2011 = number_male_in_age_group_15_19_2011[0]+number_male_in_age_group_20_24_2011[0]\n",
    "\n",
    "#     number_male_in_age_group_15_19_2016 = age_group_15_19['Unnamed: 9'].astype(int).values\n",
    "#     number_male_in_age_group_20_24_2016 = age_group_20_24['Unnamed: 9'].astype(int).values\n",
    "#     male_15_24_2016 = number_male_in_age_group_15_19_2016[0]+number_male_in_age_group_20_24_2016[0]\n",
    "\n",
    "#     total_population = district[district['Unnamed: 1'] == 'TOTAL']\n",
    "\n",
    "#     tp_2011 = total_population['Unnamed: 5'].astype(int).values\n",
    "#     tp_2011_m = total_population['Unnamed: 6'].astype(int).values\n",
    "#     tp_2011_f = total_population['Unnamed: 7'].astype(int).values\n",
    "#     gr_2011 = (tp_2011_f[0]*1000/tp_2011_m[0]).astype(int)\n",
    "\n",
    "#     tp_2016 = total_population['Unnamed: 8'].astype(int).values\n",
    "#     tp_2016_m = total_population['Unnamed: 9'].astype(int).values\n",
    "#     tp_2016_f = total_population['Unnamed: 10'].astype(int).values\n",
    "#     gr_2016 = (tp_2016_f[0]*1000/tp_2016_m[0]).astype(int)\n",
    "#     return (gr_2011, gr_2016, male_15_24_2011, male_15_24_2016, tp_2011[0], tp_2016[0])\n",
    "\n",
    "# first = up_data_xls.sheet_names[1:]\n",
    "# gender = []\n",
    "# age_group = []\n",
    "# total_population = []\n",
    "# for district in first:\n",
    "#     (gr2011, gr2016, male_2011, male_2016, tp_2011, tp_2016) = getData(district)\n",
    "#     g_dict = {'district':district.strip(), 'sex_ratio_2011':gr2011, 'sex_ratio_2016':gr2016}\n",
    "#     age_dict = {'district':district.strip(), 'Male_15_24yr_2011':male_2011, 'Male_15_24yr_2016':male_2016}\n",
    "#     t_pop_dict = {'district':district.strip(), 'Total_Population_2011':tp_2011, 'Total_Population_2016':tp_2016}\n",
    "#     gender.append(g_dict)\n",
    "#     age_group.append(age_dict)\n",
    "#     total_population.append(t_pop_dict)\n",
    "\n",
    "# # Creating data frame\n",
    "# gender_ratio_df = pd.DataFrame(gender)\n",
    "# age_group_df = pd.DataFrame(age_group)\n",
    "# total_population_df = pd.DataFrame(total_population)\n",
    "\n",
    "# # TO csv file\n",
    "# gender_ratio_df.to_csv('./data/preprocessed_data/sex_ratio.csv', index = False)\n",
    "# age_group_df.to_csv('./data/preprocessed_data/male_15_24yr.csv', index = False)\n",
    "# total_population_df.to_csv('./data/preprocessed_data/population.csv', index = False)"
   ]
  },
  {
   "cell_type": "markdown",
   "metadata": {},
   "source": [
    "#### Combining Demographic and economic parameters"
   ]
  },
  {
   "cell_type": "code",
   "execution_count": 30,
   "metadata": {},
   "outputs": [],
   "source": [
    "# cc = pd.read_csv('./data/crime_count/district_police_station_wise_crime_count.csv')\n",
    "# cc.head()"
   ]
  },
  {
   "cell_type": "code",
   "execution_count": 31,
   "metadata": {},
   "outputs": [],
   "source": [
    "# cc['district'] = cc['district'].apply(lambda x : x.lower())\n",
    "# cc['district'] = cc['district'].apply(lambda x : x.title())\n",
    "# cc['district'].unique()"
   ]
  },
  {
   "cell_type": "code",
   "execution_count": 32,
   "metadata": {},
   "outputs": [],
   "source": [
    "# male = pd.read_csv('./data/preprocessed_data/male_15_24yr.csv')\n",
    "# gdp = pd.read_csv('./data/preprocessed_data/gdp.csv')\n",
    "# unemploy = pd.read_csv('./data/preprocessed_data/unemployment_2011.csv')\n",
    "# pop = pd.read_csv('./data/preprocessed_data/population.csv')\n",
    "# sexratio = pd.read_csv('./data/preprocessed_data/sex_ratio.csv')"
   ]
  },
  {
   "cell_type": "code",
   "execution_count": 33,
   "metadata": {},
   "outputs": [],
   "source": [
    "# gdp['district'] = gdp['district'].str.lstrip()\n",
    "# gdp = gdp.replace('Auraiyya', 'Auraiya')\n",
    "# gdp = gdp.replace('Bagpat', 'Baghpat')\n",
    "# gdp = gdp.replace('Buland Shahar', 'Bulandshahar')\n",
    "# gdp = gdp.replace('Gautambudh nagar', 'Gautam Budh Nagar')\n",
    "# gdp = gdp.replace('Maharaj Ganj', 'Mahrajganj')\n",
    "# gdp = gdp.replace('Pratap Garh', 'Pratapgarh')\n",
    "# gdp = gdp.replace('Sant Ravi Das Nagar', 'Bhadohi')\n",
    "# gdp = gdp.replace('Sant kabeer Maharaj Ganj', 'Sant Kabeer Nagar')\n",
    "# gdp = gdp.replace('Amorha', 'Jyotibaphulleynagar')\n",
    "# gdp = gdp.replace('Kanshiram Nagar', 'Kasganj')\n",
    "# gdp = gdp.replace('Allahabad', 'Prayagraj')\n",
    "# gdp = gdp.replace('Muzaffarnagar', 'Muzaffar Nagar')\n",
    "# gdp = gdp.replace('Faizabad', 'Ayodhya')\n",
    "# gdp = gdp.replace('Farrukhabad', 'Fatehgarh')\n",
    "# gdp = gdp.replace('Kanpur Nagar', 'Kanpur City')"
   ]
  },
  {
   "cell_type": "code",
   "execution_count": 34,
   "metadata": {},
   "outputs": [],
   "source": [
    "# pop = pop.replace('Bulandshahr', 'Bulandshahar')\n",
    "# pop = pop.replace('Gautam Buddha Nagar', 'Gautam Budh Nagar')\n",
    "# pop = pop.replace('Jyotiba Phule Nagar', 'Jyotibaphulleynagar')\n",
    "# pop = pop.replace('Kushinagar', 'Kushi Nagar')\n",
    "# pop = pop.replace('Maharajganj', 'Mahrajganj')\n",
    "# pop = pop.replace('Sant Kabir Nagar', 'Sant Kabeer Nagar')\n",
    "# pop = pop.replace('Sant Ravidas Nagar Bhadohi', 'Bhadohi')\n",
    "# pop = pop.replace('Siddharthnagar', 'Siddharth Nagar')\n",
    "# pop = pop.replace('Shrawasti', 'Shravasti')\n",
    "# pop = pop.replace('Budaun', 'Badaun')\n",
    "# pop = pop.replace('Allahabad', 'Prayagraj')\n",
    "# pop = pop.replace('Muzaffarnagar', 'Muzaffar Nagar')\n",
    "# pop = pop.replace('Faizabad', 'Ayodhya')\n",
    "# pop = pop.replace('Farrukhabad', 'Fatehgarh')\n",
    "# pop = pop.replace('Kanpur Nagar', 'Kanpur City')"
   ]
  },
  {
   "cell_type": "code",
   "execution_count": 35,
   "metadata": {},
   "outputs": [],
   "source": [
    "# sexratio = sexratio.replace('Bulandshahr', 'Bulandshahar')\n",
    "# sexratio = sexratio.replace('Gautam Buddha Nagar', 'Gautam Budh Nagar')\n",
    "# sexratio = sexratio.replace('Jyotiba Phule Nagar', 'Jyotibaphulleynagar')\n",
    "# sexratio = sexratio.replace('Kushinagar', 'Kushi Nagar')\n",
    "# sexratio = sexratio.replace('Maharajganj', 'Mahrajganj')\n",
    "# sexratio = sexratio.replace('Sant Kabir Nagar', 'Sant Kabeer Nagar')\n",
    "# sexratio = sexratio.replace('Sant Ravidas Nagar Bhadohi', 'Bhadohi')\n",
    "# sexratio = sexratio.replace('Siddharthnagar', 'Siddharth Nagar')\n",
    "# sexratio = sexratio.replace('Shrawasti', 'Shravasti')\n",
    "# sexratio = sexratio.replace('Budaun', 'Badaun')\n",
    "# sexratio = sexratio.replace('Allahabad', 'Prayagraj')\n",
    "# sexratio = sexratio.replace('Muzaffarnagar', 'Muzaffar Nagar')\n",
    "# sexratio = sexratio.replace('Faizabad', 'Ayodhya')\n",
    "# sexratio = sexratio.replace('Farrukhabad', 'Fatehgarh')\n",
    "# sexratio = sexratio.replace('Kanpur Nagar', 'Kanpur City')"
   ]
  },
  {
   "cell_type": "code",
   "execution_count": 36,
   "metadata": {},
   "outputs": [],
   "source": [
    "# male = male.replace('Bulandshahr', 'Bulandshahar')\n",
    "# male = male.replace('Gautam Buddha Nagar', 'Gautam Budh Nagar')\n",
    "# male = male.replace('Jyotiba Phule Nagar', 'Jyotibaphulleynagar')\n",
    "# male = male.replace('Kushinagar', 'Kushi Nagar')\n",
    "# male = male.replace('Maharajganj', 'Mahrajganj')\n",
    "# male = male.replace('Sant Kabir Nagar', 'Sant Kabeer Nagar')\n",
    "# male = male.replace('Sant Ravidas Nagar Bhadohi', 'Bhadohi')\n",
    "# male = male.replace('Siddharthnagar', 'Siddharth Nagar')\n",
    "# male = male.replace('Shrawasti', 'Shravasti')\n",
    "# male = male.replace('Budaun', 'Badaun')\n",
    "# male = male.replace('Allahabad', 'Prayagraj')\n",
    "# male = male.replace('Muzaffarnagar', 'Muzaffar Nagar')\n",
    "# male = male.replace('Faizabad', 'Ayodhya')\n",
    "# male = male.replace('Farrukhabad', 'Fatehgarh')\n",
    "# male = male.replace('Kanpur Nagar', 'Kanpur City')"
   ]
  },
  {
   "cell_type": "code",
   "execution_count": 37,
   "metadata": {},
   "outputs": [],
   "source": [
    "# unemploy['district'].replace(regex=True,inplace=True,to_replace=r'  ',value=r' ')\n",
    "# unemploy = unemploy.replace('Mahamaya Nagar', 'Hathras')\n",
    "# unemploy = unemploy.replace('Gautam Buddha Nagar', 'Gautam Budh Nagar')\n",
    "# unemploy = unemploy.replace('Jyotiba Phule Nagar', 'Jyotibaphulleynagar')\n",
    "# unemploy = unemploy.replace('Kushinagar', 'Kushi Nagar')\n",
    "# unemploy = unemploy.replace('Maharajganj', 'Mahrajganj')\n",
    "# unemploy = unemploy.replace('Sant Kabir Nagar', 'Sant Kabeer Nagar')\n",
    "# unemploy = unemploy.replace('Sant Ravidas Nagar', 'Bhadohi')\n",
    "# unemploy = unemploy.replace('Siddharthnagar', 'Siddharth Nagar')\n",
    "# unemploy = unemploy.replace('Shrawasti', 'Shravasti')\n",
    "# unemploy = unemploy.replace('Budaun', 'Badaun')\n",
    "# unemploy = unemploy.replace('Kanshiram Nagar', 'Kasganj')\n",
    "# unemploy = unemploy.replace('Allahabad', 'Prayagraj')\n",
    "# unemploy = unemploy.replace('Muzaffarnagar', 'Muzaffar Nagar')\n",
    "# unemploy = unemploy.replace('Faizabad', 'Ayodhya')\n",
    "# unemploy = unemploy.replace('Farrukhabad', 'Fatehgarh')\n",
    "# unemploy = unemploy.replace('Kanpur Nagar', 'Kanpur City')"
   ]
  },
  {
   "cell_type": "code",
   "execution_count": 38,
   "metadata": {
    "scrolled": true
   },
   "outputs": [],
   "source": [
    "# print(set(cc['district'].values) - set(sexratio['district'].values))\n",
    "# print(set(sexratio['district'].values) - set(cc['district'].values))"
   ]
  },
  {
   "cell_type": "code",
   "execution_count": 39,
   "metadata": {},
   "outputs": [],
   "source": [
    "# print(set(cc['district'].values) - set(pop['district'].values))\n",
    "# print(set(pop['district'].values) - set(cc['district'].values))"
   ]
  },
  {
   "cell_type": "code",
   "execution_count": 41,
   "metadata": {
    "scrolled": true
   },
   "outputs": [],
   "source": [
    "# print(set(cc['district'].values) - set(male['district'].values))\n",
    "# print(set(male['district'].values) - set(cc['district'].values))"
   ]
  },
  {
   "cell_type": "code",
   "execution_count": 42,
   "metadata": {},
   "outputs": [],
   "source": [
    "# print(set(cc['district'].values) - set(unemploy['district'].values))\n",
    "# print(set(unemploy['district'].values) - set(cc['district'].values))"
   ]
  },
  {
   "cell_type": "code",
   "execution_count": 43,
   "metadata": {},
   "outputs": [],
   "source": [
    "# print(set(cc['district'].values) - set(gdp['district'].values))\n",
    "# print(set(gdp['district'].values) - set(cc['district'].values))"
   ]
  },
  {
   "cell_type": "code",
   "execution_count": 44,
   "metadata": {},
   "outputs": [],
   "source": [
    "# combined = male.join(gdp.set_index('district'), on='district', how='outer')\n",
    "# combined = combined.join(unemploy.set_index('district'), on='district', how='outer')\n",
    "# combined = combined.join(pop.set_index('district'), on='district', how='outer')\n",
    "# combined = combined.join(sexratio.set_index('district'), on='district', how='outer')"
   ]
  },
  {
   "cell_type": "code",
   "execution_count": 45,
   "metadata": {},
   "outputs": [],
   "source": [
    "# print(set(cc['district'].values) - set(combined['district'].values))\n",
    "# print(set(combined['district'].values) - set(cc['district'].values))"
   ]
  },
  {
   "cell_type": "code",
   "execution_count": 46,
   "metadata": {},
   "outputs": [],
   "source": [
    "# covariates = pd.DataFrame({\n",
    "#     'district':combined['district'].values,\n",
    "#     'Male_15_24yr_2011':combined['Male_15_24yr_2011'].values,\n",
    "#     'Total_Population_2011':combined['Total_Population_2011'].values,\n",
    "#     'sex_ratio_2011':combined['sex_ratio_2011'].values,\n",
    "#     'total_non_worker':combined['total_non_worker'].values,\n",
    "#     'gdp_2011_12':combined['2011-12'].values\n",
    "# })\n",
    "# covariates['gdp_2011_12'].replace(regex=True,inplace=True,to_replace=r',',value=r'')\n",
    "# covariates = covariates.astype({'gdp_2011_12': 'float64'})\n",
    "# i = covariates[covariates.district == 'Uttar Pradesh'].index\n",
    "# covariates = covariates.drop(i)"
   ]
  },
  {
   "cell_type": "code",
   "execution_count": 47,
   "metadata": {},
   "outputs": [],
   "source": [
    "# covariates.head()"
   ]
  },
  {
   "cell_type": "code",
   "execution_count": 48,
   "metadata": {},
   "outputs": [],
   "source": [
    "# nd = covariates.copy()\n",
    "# missing_rows = []\n",
    "# for each in set(cc['district'].values) - set(combined['district'].values):\n",
    "#     row = {}\n",
    "#     row['district'] = each\n",
    "#     missing_rows.append(row)\n",
    "# nd = nd.append(missing_rows, ignore_index=True)"
   ]
  },
  {
   "cell_type": "code",
   "execution_count": 50,
   "metadata": {},
   "outputs": [],
   "source": [
    "# nd[nd['district'] == 'Hapur']"
   ]
  },
  {
   "cell_type": "code",
   "execution_count": 51,
   "metadata": {},
   "outputs": [],
   "source": [
    "# nd[nd.isnull().any(axis=1)]"
   ]
  },
  {
   "cell_type": "code",
   "execution_count": 52,
   "metadata": {},
   "outputs": [],
   "source": [
    "# covariates = nd.copy()"
   ]
  },
  {
   "cell_type": "code",
   "execution_count": 53,
   "metadata": {},
   "outputs": [],
   "source": [
    "# covariates.mean()"
   ]
  },
  {
   "cell_type": "code",
   "execution_count": 54,
   "metadata": {},
   "outputs": [],
   "source": [
    "# covariates[covariates.isnull().any(axis=1)]"
   ]
  },
  {
   "cell_type": "code",
   "execution_count": 55,
   "metadata": {},
   "outputs": [],
   "source": [
    "# covariates = covariates.fillna(covariates.mean())"
   ]
  },
  {
   "cell_type": "code",
   "execution_count": 56,
   "metadata": {},
   "outputs": [],
   "source": [
    "# covariates[covariates.isnull().any(axis=1)]"
   ]
  },
  {
   "cell_type": "code",
   "execution_count": 57,
   "metadata": {},
   "outputs": [],
   "source": [
    "# covariates[covariates['district'] == 'Hapur']"
   ]
  },
  {
   "cell_type": "code",
   "execution_count": 58,
   "metadata": {},
   "outputs": [],
   "source": [
    "# covariates.to_csv('./data/district_covariates/covariates.csv', index=False)"
   ]
  },
  {
   "cell_type": "markdown",
   "metadata": {},
   "source": [
    "### Clustering and GIS Map"
   ]
  },
  {
   "cell_type": "code",
   "execution_count": 192,
   "metadata": {},
   "outputs": [],
   "source": [
    "# def docluster(df, data, k): #, init = 'random'\n",
    "#     #data = whiten(data)\n",
    "#     kmeans = KMeans(n_clusters=k, n_init = 75, n_jobs=6).fit(data)\n",
    "#     df['class'] = kmeans.labels_\n",
    "#     print(kmeans.inertia_)\n",
    "#     return df\n",
    "\n",
    "# def elbow_plot(X, title, save): # X must be two dimensional \n",
    "#     distortions = []\n",
    "#     K = range(1,25)\n",
    "#     #X = whiten(X)\n",
    "#     for k in K:\n",
    "#         kmeanModel = KMeans(n_clusters=k, n_init = 75, n_jobs=6).fit(X)\n",
    "#         distortions.append(sum(np.min(cdist(X, kmeanModel.cluster_centers_, 'euclidean'), axis=1)) / X.shape[0])\n",
    "    \n",
    "#     fig, ax1 = plt.subplots(figsize=(12, 5))\n",
    "#     plt.plot(K, distortions, 'bx-')\n",
    "#     ax1.yaxis.grid(True, linestyle='-', which='major', color='lightgrey', alpha=0.5)\n",
    "#     ax1.xaxis.grid(True, linestyle='-', which='major', color='lightgrey', alpha=0.5)\n",
    "#     plt.xlabel('k')\n",
    "#     plt.ylabel('Distortion')\n",
    "#     plt.title('The Elbow Method showing the optimal k ('+title+')')\n",
    "#     if save:\n",
    "#         plt.savefig('./images/clusters/elbow.png', bbox_inches='tight')\n",
    "#     plt.show()"
   ]
  },
  {
   "cell_type": "code",
   "execution_count": 193,
   "metadata": {},
   "outputs": [],
   "source": [
    "# covariates = pd.read_csv('./data/district_covariates/covariates.csv')\n",
    "# covariates.head()"
   ]
  },
  {
   "cell_type": "code",
   "execution_count": 194,
   "metadata": {},
   "outputs": [],
   "source": [
    "# covariates.columns[1:]"
   ]
  },
  {
   "cell_type": "code",
   "execution_count": 195,
   "metadata": {},
   "outputs": [],
   "source": [
    "# data_col = ['Male_15_24yr_2011', 'Total_Population_2011',\n",
    "#        'total_non_worker', 'gdp_2011_12']\n",
    "# data = covariates[data_col]\n",
    "# clusters = covariates.copy()"
   ]
  },
  {
   "cell_type": "code",
   "execution_count": 196,
   "metadata": {},
   "outputs": [],
   "source": [
    "# data.head()"
   ]
  },
  {
   "cell_type": "code",
   "execution_count": 197,
   "metadata": {},
   "outputs": [],
   "source": [
    "# elbow_plot(data, 'Male, Population, Unemployment, GDP', True)"
   ]
  },
  {
   "cell_type": "code",
   "execution_count": 198,
   "metadata": {},
   "outputs": [],
   "source": [
    "# clusters = docluster(covariates, data, 11)\n",
    "# classes = clusters['class'].unique()\n",
    "# print('After clustering into '+str(classes.size)+' groups:\\n')\n",
    "# for each in np.sort(classes):\n",
    "#     print('No. of districts in class '+str(each)+' : ', clusters[clusters['class']==each].shape, clusters[clusters['class']==each]['district'].unique())"
   ]
  },
  {
   "cell_type": "code",
   "execution_count": 199,
   "metadata": {},
   "outputs": [],
   "source": [
    "# clusters.to_csv('./data/clusters/clusters.csv', index=False)"
   ]
  },
  {
   "cell_type": "code",
   "execution_count": 200,
   "metadata": {},
   "outputs": [],
   "source": [
    "# clusters[clusters['district']=='Hapur']"
   ]
  },
  {
   "cell_type": "code",
   "execution_count": 201,
   "metadata": {},
   "outputs": [],
   "source": [
    "# import folium\n",
    "# import os\n",
    "# import geopandas as gpd"
   ]
  },
  {
   "cell_type": "code",
   "execution_count": 202,
   "metadata": {},
   "outputs": [],
   "source": [
    "# cluster_data = clusters[['district','class']]\n",
    "# cluster_data = cluster_data.replace('Ayodhya', 'Faizabad')\n",
    "# cluster_data = cluster_data.replace('Badaun', 'Budaun')\n",
    "# cluster_data = cluster_data.replace('Jyotibaphulleynagar', 'Amroha')\n",
    "# cluster_data = cluster_data.replace('Bhadohi', 'Sant Ravi Das Nagar(bhadohi)')\n",
    "# cluster_data = cluster_data.replace('Shravasti', 'Shrawasti')\n",
    "# cluster_data = cluster_data.replace('Bulandshahar', 'Bulandshahr')\n",
    "# cluster_data = cluster_data.replace('Gautam Budh Nagar', 'Gautam Buddha Nagar')\n",
    "# cluster_data = cluster_data.replace('Kushi Nagar', 'Kushinagar')\n",
    "# cluster_data = cluster_data.replace('Kheri', 'Lakhimpur Kheri')\n",
    "# cluster_data = cluster_data.replace('Mahrajganj', 'Maharajganj')\n",
    "# cluster_data = cluster_data.replace('Sant Kabeer Nagar', 'Sant Kabir Nagar')\n",
    "# cluster_data = cluster_data.replace('Muzaffar Nagar', 'Muzaffarnagar')\n",
    "# cluster_data = cluster_data.replace('Prayagraj', 'Allahabad')\n",
    "# cluster_data = cluster_data.replace('Fatehgarh', 'Farrukhabad')\n",
    "# cluster_data = cluster_data.replace('Kanpur City', 'Kanpur Nagar')\n",
    "# cluster_data = cluster_data.replace('Hathras', 'Mahamaya Nagar')"
   ]
  },
  {
   "cell_type": "code",
   "execution_count": 203,
   "metadata": {},
   "outputs": [],
   "source": [
    "# district_up_geo = './data/geojson/uttarpradesh_district.geojson'\n",
    "# distdf = gpd.read_file(district_up_geo)\n",
    "# newdf = distdf[['district']].copy()\n",
    "# newdf.head()"
   ]
  },
  {
   "cell_type": "code",
   "execution_count": 204,
   "metadata": {},
   "outputs": [],
   "source": [
    "# print(newdf.values.shape)\n",
    "# print(newdf.dtypes)"
   ]
  },
  {
   "cell_type": "code",
   "execution_count": 205,
   "metadata": {},
   "outputs": [],
   "source": [
    "# set(newdf['district'].unique()) - set(cluster_data['district'].unique())"
   ]
  },
  {
   "cell_type": "code",
   "execution_count": 206,
   "metadata": {},
   "outputs": [],
   "source": [
    "# set(cluster_data['district'].unique()) - set(newdf['district'].unique())"
   ]
  },
  {
   "cell_type": "code",
   "execution_count": 207,
   "metadata": {},
   "outputs": [],
   "source": [
    "# cluster_map_data = newdf.merge(cluster_data,left_on='district',right_on='district',how='outer')\n",
    "# cluster_map_data.to_csv('./data/geojson/geojson_cluster.csv', index=False)\n",
    "# cluster_map_data.head()"
   ]
  },
  {
   "cell_type": "code",
   "execution_count": 208,
   "metadata": {},
   "outputs": [],
   "source": [
    "# cluster_map_data = pd.read_csv('./data/geojson/geojson_cluster.csv')\n",
    "# print(cluster_map_data.values.shape)\n",
    "# cluster_map_data.head()"
   ]
  },
  {
   "cell_type": "code",
   "execution_count": 209,
   "metadata": {},
   "outputs": [],
   "source": [
    "# for index, row in cluster_map_data.iterrows():\n",
    "#     if pd.isnull(cluster_map_data['district'][index]):\n",
    "#         print('NOOOOO')\n",
    "#         cluster_map_data.loc[index, 'district'] = row['district']\n",
    "#     if pd.isnull(cluster_map_data['district'][index]):\n",
    "#         print('NOOOOO')\n",
    "#         cluster_map_data.loc[index, 'district'] = row['district']"
   ]
  },
  {
   "cell_type": "code",
   "execution_count": 185,
   "metadata": {},
   "outputs": [],
   "source": [
    "# cluster_map_data[cluster_map_data.isnull().any(axis=1)]\n",
    "# cluster_map_data = cluster_map_data.fillna(-1)"
   ]
  },
  {
   "cell_type": "code",
   "execution_count": 210,
   "metadata": {},
   "outputs": [],
   "source": [
    "# cluster_map_data = cluster_map_data[['district','class']]\n",
    "# cluster_map_data.rename(columns = {'class':'data'}, inplace = True)\n",
    "# cluster_map_data.head()"
   ]
  },
  {
   "cell_type": "code",
   "execution_count": 211,
   "metadata": {},
   "outputs": [],
   "source": [
    "# np.sort(cluster_map_data['data'].unique()).tolist()"
   ]
  },
  {
   "cell_type": "code",
   "execution_count": 212,
   "metadata": {},
   "outputs": [],
   "source": [
    "# # Initialize the map:\n",
    "# def generate_chloropleth(geojsonfile,district_data, marker=False, savemap=False):\n",
    "#     m = folium.Map(location=[26.8467, 80.9462], zoom_start=7)\n",
    "#     if marker:\n",
    "#         folium.Marker([26.8467, 80.9462], popup='Lucknow').add_to(m)# Add the color for the chloropleth:\n",
    "    \n",
    "#     choropleth = folium.Choropleth(\n",
    "#         geo_data=geojsonfile,\n",
    "#         name='choropleth',\n",
    "#         data=district_data,\n",
    "#         columns=['district', 'data'],\n",
    "#         key_on='feature.properties.district',\n",
    "#         fill_color='Set3',\n",
    "#         fill_opacity=0.5,\n",
    "#         line_opacity=0.3,\n",
    "#         bins = len(np.sort(district_data['data'].unique()).tolist()),\n",
    "#         legend_name='Classes ' + str(np.sort(district_data['data'].unique()))\n",
    "#     ).add_to(m)\n",
    "    \n",
    "#     folium.LayerControl().add_to(m)\n",
    "#     choropleth.geojson.add_child(\n",
    "#         folium.features.GeoJsonTooltip(['district'],labels=False)\n",
    "#     )\n",
    "#     # Save to html\n",
    "#     display(m)\n",
    "#     if savemap:\n",
    "#         m.save('./data/maps/folium_chloropleth_UP_'+str(district_data['data'].unique().size-1)+'.html')\n",
    "#     return m"
   ]
  },
  {
   "cell_type": "code",
   "execution_count": 213,
   "metadata": {},
   "outputs": [],
   "source": [
    "# m = generate_chloropleth(district_up_geo,cluster_map_data, savemap=True)"
   ]
  },
  {
   "cell_type": "markdown",
   "metadata": {},
   "source": [
    "### Covariates and Crime count combined"
   ]
  },
  {
   "cell_type": "markdown",
   "metadata": {},
   "source": [
    "##### District only crime count, removing PS"
   ]
  },
  {
   "cell_type": "code",
   "execution_count": 227,
   "metadata": {},
   "outputs": [],
   "source": [
    "# df = pd.read_csv('./data/crime_count/district_police_station_wise_crime_count.csv')\n",
    "# districts = df['district'].unique()\n",
    "# years = df['reg_year'].unique()\n",
    "# months = df['reg_month'].unique()\n",
    "# df.head()"
   ]
  },
  {
   "cell_type": "code",
   "execution_count": 228,
   "metadata": {},
   "outputs": [],
   "source": [
    "# df[df['count']==0]"
   ]
  },
  {
   "cell_type": "markdown",
   "metadata": {},
   "source": [
    "##### Missing values for monthly count are replaced by mean of the police station"
   ]
  },
  {
   "cell_type": "code",
   "execution_count": 229,
   "metadata": {},
   "outputs": [],
   "source": [
    "# newdf = pd.DataFrame(columns=df.columns)\n",
    "# for district in districts:\n",
    "#     dff = df[df['district']==district]\n",
    "#     polices = dff['ps'].unique()\n",
    "#     for ps in polices:\n",
    "#         pdf = dff[dff['ps']==ps]\n",
    "#         pdf['count'].replace(0,pdf['count'].mean(axis=0),inplace=True)\n",
    "#         newdf = newdf.append(pdf, ignore_index=True)\n",
    "# df = newdf"
   ]
  },
  {
   "cell_type": "code",
   "execution_count": 230,
   "metadata": {},
   "outputs": [],
   "source": [
    "# df[df['count']==0]"
   ]
  },
  {
   "cell_type": "code",
   "execution_count": 231,
   "metadata": {},
   "outputs": [],
   "source": [
    "# df.columns"
   ]
  },
  {
   "cell_type": "code",
   "execution_count": 232,
   "metadata": {},
   "outputs": [],
   "source": [
    "# rowlist = []\n",
    "# for d in districts:\n",
    "#     for y in years:\n",
    "#         for m in months:\n",
    "#             odf = df[(df['district'] == d) & (df['reg_year'] == y) & (df['reg_month'] == m)]\n",
    "#             ndist = {\n",
    "#                 'district':d, \n",
    "#                 'reg_year':y,\n",
    "#                 'reg_month':m, \n",
    "#                 'count':odf['count'].sum()\n",
    "#             }\n",
    "#             rowlist.append(ndist)"
   ]
  },
  {
   "cell_type": "code",
   "execution_count": 233,
   "metadata": {},
   "outputs": [],
   "source": [
    "# ndf = pd.DataFrame(rowlist)\n",
    "# ndf['count'] = ndf['count'].apply(np.int64)"
   ]
  },
  {
   "cell_type": "code",
   "execution_count": 234,
   "metadata": {},
   "outputs": [],
   "source": [
    "# ndf['district'] = ndf['district'].apply(lambda x : x.lower())\n",
    "# ndf['district'] = ndf['district'].apply(lambda x : x.title())\n",
    "# ndf.head()"
   ]
  },
  {
   "cell_type": "code",
   "execution_count": 235,
   "metadata": {},
   "outputs": [],
   "source": [
    "# ndf.to_csv('./data/crime_count/district_wise_crime_count.csv', index=False)"
   ]
  },
  {
   "cell_type": "markdown",
   "metadata": {},
   "source": [
    "##### combining crime_count and other covariates"
   ]
  },
  {
   "cell_type": "code",
   "execution_count": 252,
   "metadata": {},
   "outputs": [],
   "source": [
    "# cv = pd.read_csv('./data/clusters/clusters.csv')\n",
    "# cc = pd.read_csv('./data/crime_count/district_wise_crime_count.csv')"
   ]
  },
  {
   "cell_type": "code",
   "execution_count": 253,
   "metadata": {},
   "outputs": [],
   "source": [
    "# cv.head()"
   ]
  },
  {
   "cell_type": "code",
   "execution_count": 254,
   "metadata": {},
   "outputs": [],
   "source": [
    "# cc.head()"
   ]
  },
  {
   "cell_type": "code",
   "execution_count": 255,
   "metadata": {},
   "outputs": [],
   "source": [
    "# print(set(cv['district'].unique()) - set(cc['district'].unique()))\n",
    "# print(set(cc['district'].unique()) - set(cv['district'].unique()))"
   ]
  },
  {
   "cell_type": "code",
   "execution_count": 256,
   "metadata": {},
   "outputs": [],
   "source": [
    "# combined = cc.join(cv.set_index('district'), on='district', how='outer')\n",
    "# combined.head()"
   ]
  },
  {
   "cell_type": "code",
   "execution_count": 257,
   "metadata": {},
   "outputs": [],
   "source": [
    "# combined[combined.isnull().any(axis=1)]"
   ]
  },
  {
   "cell_type": "markdown",
   "metadata": {},
   "source": [
    "##### Calculating lagged month and year values "
   ]
  },
  {
   "cell_type": "code",
   "execution_count": 258,
   "metadata": {},
   "outputs": [],
   "source": [
    "# def getCount(df, district, year, month):\n",
    "#     df = df[df['district']==district]\n",
    "#     df = df[df['reg_year']==year]\n",
    "#     df = df[df['reg_month']==month]\n",
    "#     return df['count']"
   ]
  },
  {
   "cell_type": "code",
   "execution_count": 259,
   "metadata": {},
   "outputs": [],
   "source": [
    "# lastyear = []\n",
    "# lastmonth= []\n",
    "# for index, row in combined.iterrows():\n",
    "#     if row['reg_year'] == 2016:\n",
    "#         prev_year = row['reg_year']\n",
    "#     else:\n",
    "#         prev_year = row['reg_year'] - 1\n",
    "    \n",
    "#     if row['reg_month'] == 1:\n",
    "#         if row['reg_year'] == 2016:\n",
    "#             year = 2016\n",
    "#             month = 1\n",
    "#         else:\n",
    "#             year = row['reg_year'] - 1\n",
    "#             month = 12\n",
    "#     else:\n",
    "#         month = row['reg_month'] - 1\n",
    "#         year = row['reg_year']\n",
    "    \n",
    "#     ly = getCount(combined, row['district'], prev_year, row['reg_month']).values\n",
    "#     lm = getCount(combined, row['district'], year, month).values\n",
    "#     lastyear.append(ly[0])\n",
    "#     lastmonth.append(lm[0])"
   ]
  },
  {
   "cell_type": "code",
   "execution_count": 260,
   "metadata": {},
   "outputs": [],
   "source": [
    "# print(combined.values.shape, len(lastyear), len(lastmonth))"
   ]
  },
  {
   "cell_type": "code",
   "execution_count": 261,
   "metadata": {},
   "outputs": [],
   "source": [
    "# combined['count_lag_year'] = np.array(lastyear)\n",
    "# combined['count_lag_month'] = np.array(lastmonth)\n",
    "# combined.columns = map(str.lower, combined.columns)\n",
    "# print(combined.columns, combined.columns.size)\n",
    "# combined = combined[['district', 'reg_year', 'reg_month', 'count_lag_month', 'count_lag_year', 'count', 'male_15_24yr_2011', 'total_population_2011', 'sex_ratio_2011', 'total_non_worker', 'gdp_2011_12', 'class']]\n",
    "# print(combined.columns.size)\n",
    "# combined.to_csv('./data/district_covariates/all_covariates_clustered.csv', index=False)\n",
    "# combined.head(5)"
   ]
  },
  {
   "cell_type": "code",
   "execution_count": 262,
   "metadata": {},
   "outputs": [],
   "source": [
    "# combined['district'].unique().size"
   ]
  },
  {
   "cell_type": "code",
   "execution_count": 2,
   "metadata": {},
   "outputs": [],
   "source": [
    "#combined['class'].unique().size"
   ]
  },
  {
   "cell_type": "code",
   "execution_count": 1,
   "metadata": {},
   "outputs": [],
   "source": [
    "#combined.dtypes"
   ]
  },
  {
   "cell_type": "markdown",
   "metadata": {},
   "source": [
    "### Cluster vs crime_count graph"
   ]
  },
  {
   "cell_type": "code",
   "execution_count": 12,
   "metadata": {},
   "outputs": [],
   "source": [
    "# all_covariates = pd.read_csv('./data/district_covariates/all_covariates_clustered.csv')\n",
    "# all_covariates.head()"
   ]
  },
  {
   "cell_type": "code",
   "execution_count": 13,
   "metadata": {},
   "outputs": [],
   "source": [
    "# for rank in np.sort(all_covariates['class'].unique()):\n",
    "#     pltclust = all_covariates[all_covariates['class'] == rank]\n",
    "#     plt.figure(figsize=(16, 9))\n",
    "#     for each in pltclust['district'].unique():\n",
    "#         ccount = pltclust[pltclust['district'] == each]['count'].values\n",
    "#         plt.plot(np.arange(ccount.size)+1, ccount, label=each)\n",
    "#     plt.legend()\n",
    "#     plt.title('Cluster {}'.format(str(rank)))\n",
    "#     plt.ylabel('crime count')\n",
    "#     plt.xlabel('no. of months')\n",
    "#     plt.savefig('./images/clusters/cc_vs_cluster_{}.png'.format(str(rank)))\n",
    "#     plt.show()"
   ]
  },
  {
   "cell_type": "markdown",
   "metadata": {},
   "source": [
    "### Covariates vs. Crime count graph"
   ]
  },
  {
   "cell_type": "code",
   "execution_count": 6,
   "metadata": {},
   "outputs": [],
   "source": [
    "# data = pd.read_csv('./data/district_covariates/all_covariates_clustered.csv')\n",
    "# data.head()"
   ]
  },
  {
   "cell_type": "code",
   "execution_count": 5,
   "metadata": {},
   "outputs": [],
   "source": [
    "# fig, axs = plt.subplots(3, 2, figsize=(15,15))\n",
    "# axs[0, 0].plot(data['total_non_worker'], data['count'], '.')\n",
    "# axs[0, 0].set_title('total_non_worker vs crime_count')\n",
    "\n",
    "# axs[0, 1].plot(data['male_15_24yr_2011'], data['count'], '.')\n",
    "# axs[0, 1].set_title('male_15_24yr_2011 vs crime_count')\n",
    "\n",
    "# axs[1, 0].plot(data['total_population_2011'], data['count'], '.')\n",
    "# axs[1, 0].set_title('total_population_2011 vs crime_count')\n",
    "\n",
    "# axs[1, 1].plot(data['gdp_2011_12'], data['count'], '.')\n",
    "# axs[1, 1].set_title('gdp_2011_12 vs crime_count')\n",
    "\n",
    "# axs[2, 0].plot(data['count_lag_year'], data['count'], '.')\n",
    "# axs[2, 0].set_title('count_lag_year vs crime_count')\n",
    "\n",
    "# axs[2, 1].plot(data['count_lag_month'], data['count'], '.')\n",
    "# axs[2, 1].set_title('count_lag_month vs crime_count')\n",
    "\n",
    "# for ax in axs.flat:\n",
    "#     ax.label_outer()\n",
    "    \n",
    "# fig.savefig('./images/covariates/covariate_vs_crime_count.png')"
   ]
  },
  {
   "cell_type": "code",
   "execution_count": null,
   "metadata": {},
   "outputs": [],
   "source": []
  }
 ],
 "metadata": {
  "kernelspec": {
   "display_name": "Python 3",
   "language": "python",
   "name": "python3"
  },
  "language_info": {
   "codemirror_mode": {
    "name": "ipython",
    "version": 3
   },
   "file_extension": ".py",
   "mimetype": "text/x-python",
   "name": "python",
   "nbconvert_exporter": "python",
   "pygments_lexer": "ipython3",
   "version": "3.6.9"
  }
 },
 "nbformat": 4,
 "nbformat_minor": 2
}
